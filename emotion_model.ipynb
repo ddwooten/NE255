{
  "nbformat": 4,
  "nbformat_minor": 0,
  "metadata": {
    "colab": {
      "name": "emotion_model.ipynb",
      "version": "0.3.2",
      "provenance": [],
      "collapsed_sections": [],
      "include_colab_link": true
    },
    "kernelspec": {
      "name": "python3",
      "display_name": "Python 3"
    }
  },
  "cells": [
    {
      "cell_type": "markdown",
      "metadata": {
        "id": "view-in-github",
        "colab_type": "text"
      },
      "source": [
        "<a href=\"https://colab.research.google.com/github/ddwooten/NE255/blob/master/emotion_model.ipynb\" target=\"_parent\"><img src=\"https://colab.research.google.com/assets/colab-badge.svg\" alt=\"Open In Colab\"/></a>"
      ]
    },
    {
      "cell_type": "markdown",
      "metadata": {
        "id": "cCIIuqO8Wqll",
        "colab_type": "text"
      },
      "source": [
        "# **Setup**"
      ]
    },
    {
      "cell_type": "code",
      "metadata": {
        "id": "qygkuCjLUUp_",
        "colab_type": "code",
        "colab": {}
      },
      "source": [
        "\n",
        "import cv2\n",
        "import tarfile\n",
        "import zipfile\n",
        "import os\n",
        "import copy\n",
        "import pandas as pd\n",
        "import numpy as np\n",
        "import seaborn as sns\n",
        "\n",
        "import tensorflow as tf\n",
        "from tensorflow import keras\n",
        "from keras.preprocessing.image import load_img, img_to_array\n",
        "import matplotlib.pyplot as plt\n"
      ],
      "execution_count": 0,
      "outputs": []
    },
    {
      "cell_type": "code",
      "metadata": {
        "id": "RrOhG4MVZzVg",
        "colab_type": "code",
        "outputId": "bb83b55e-cef6-4944-a32c-290be9bd7e5f",
        "colab": {
          "base_uri": "https://localhost:8080/",
          "height": 35
        }
      },
      "source": [
        "#mount my google drive folder and set the working dir to the google drive folder that has the unzipped kaggle data folder downloaded from https://www.kaggle.com/c/challenges-in-representation-learning-facial-expression-recognition-challenge/data \n",
        "from google.colab import drive\n",
        "drive.mount('/content/drive/', force_remount=True)\n",
        "\n",
        "#change this if you saved it somewhere else.\n",
        "#working_dir = '/content/drive/My Drive/Projects_Ongoing/classes_and_workshops/GDSO_Workshop_2019/emotion_project/challenges-in-representation-learning-facial-expression-recognition-challenge/'\n",
        "working_dir = '/content/drive/My Drive/ml_workgroup_2019_drive/'\n",
        "# working_dir = '/content/drive/My Drive/GDSO_Workshop_2019/' # Mandy's drive directory"
      ],
      "execution_count": 68,
      "outputs": [
        {
          "output_type": "stream",
          "text": [
            "Mounted at /content/drive/\n"
          ],
          "name": "stdout"
        }
      ]
    },
    {
      "cell_type": "code",
      "metadata": {
        "id": "fgMaHk3ca7eo",
        "colab_type": "code",
        "colab": {}
      },
      "source": [
        "#extract the tar file\n",
        "tar_dir = tarfile.open(working_dir + 'fer2013.tar.gz', 'r:gz')\n",
        "tar_dir.extractall(working_dir)"
      ],
      "execution_count": 0,
      "outputs": []
    },
    {
      "cell_type": "markdown",
      "metadata": {
        "id": "C3sDfxr363FK",
        "colab_type": "text"
      },
      "source": [
        "# Running gitshanks's model from scratch"
      ]
    },
    {
      "cell_type": "markdown",
      "metadata": {
        "id": "UxaQEQ1nCsfh",
        "colab_type": "text"
      },
      "source": [
        "https://github.com/gitshanks/fer2013?source=post_page---------------------------\n",
        "\n",
        "https://medium.com/themlblog/how-to-do-facial-emotion-recognition-using-a-cnn-b7bbae79cd8f"
      ]
    },
    {
      "cell_type": "markdown",
      "metadata": {
        "id": "N7pCFSpQvQgq",
        "colab_type": "text"
      },
      "source": [
        "## Preprocessing"
      ]
    },
    {
      "cell_type": "code",
      "metadata": {
        "id": "m9L5KJWihvHj",
        "colab_type": "code",
        "outputId": "8b68139e-9ee7-4099-9700-5f5975ac945f",
        "colab": {
          "base_uri": "https://localhost:8080/",
          "height": 202
        }
      },
      "source": [
        "#dataset from kaggle challege read into a pandas dataframe\n",
        "images_df = pd.read_csv(working_dir + 'fer2013/fer2013.csv')\n",
        "#There may be a problem with ascii encoding on the original csv\n",
        "#This version has been converted to UTF-8\n",
        "images_df = pd.read_csv(working_dir + 'fer2013/ufer2013.csv')\n",
        "\n",
        "images_df.head()"
      ],
      "execution_count": 69,
      "outputs": [
        {
          "output_type": "execute_result",
          "data": {
            "text/html": [
              "<div>\n",
              "<style scoped>\n",
              "    .dataframe tbody tr th:only-of-type {\n",
              "        vertical-align: middle;\n",
              "    }\n",
              "\n",
              "    .dataframe tbody tr th {\n",
              "        vertical-align: top;\n",
              "    }\n",
              "\n",
              "    .dataframe thead th {\n",
              "        text-align: right;\n",
              "    }\n",
              "</style>\n",
              "<table border=\"1\" class=\"dataframe\">\n",
              "  <thead>\n",
              "    <tr style=\"text-align: right;\">\n",
              "      <th></th>\n",
              "      <th>emotion</th>\n",
              "      <th>pixels</th>\n",
              "      <th>Usage</th>\n",
              "    </tr>\n",
              "  </thead>\n",
              "  <tbody>\n",
              "    <tr>\n",
              "      <th>0</th>\n",
              "      <td>0</td>\n",
              "      <td>70 80 82 72 58 58 60 63 54 58 60 48 89 115 121...</td>\n",
              "      <td>Training</td>\n",
              "    </tr>\n",
              "    <tr>\n",
              "      <th>1</th>\n",
              "      <td>0</td>\n",
              "      <td>151 150 147 155 148 133 111 140 170 174 182 15...</td>\n",
              "      <td>Training</td>\n",
              "    </tr>\n",
              "    <tr>\n",
              "      <th>2</th>\n",
              "      <td>2</td>\n",
              "      <td>231 212 156 164 174 138 161 173 182 200 106 38...</td>\n",
              "      <td>Training</td>\n",
              "    </tr>\n",
              "    <tr>\n",
              "      <th>3</th>\n",
              "      <td>4</td>\n",
              "      <td>24 32 36 30 32 23 19 20 30 41 21 22 32 34 21 1...</td>\n",
              "      <td>Training</td>\n",
              "    </tr>\n",
              "    <tr>\n",
              "      <th>4</th>\n",
              "      <td>6</td>\n",
              "      <td>4 0 0 0 0 0 0 0 0 0 0 0 3 15 23 28 48 50 58 84...</td>\n",
              "      <td>Training</td>\n",
              "    </tr>\n",
              "  </tbody>\n",
              "</table>\n",
              "</div>"
            ],
            "text/plain": [
              "   emotion                                             pixels     Usage\n",
              "0        0  70 80 82 72 58 58 60 63 54 58 60 48 89 115 121...  Training\n",
              "1        0  151 150 147 155 148 133 111 140 170 174 182 15...  Training\n",
              "2        2  231 212 156 164 174 138 161 173 182 200 106 38...  Training\n",
              "3        4  24 32 36 30 32 23 19 20 30 41 21 22 32 34 21 1...  Training\n",
              "4        6  4 0 0 0 0 0 0 0 0 0 0 0 3 15 23 28 48 50 58 84...  Training"
            ]
          },
          "metadata": {
            "tags": []
          },
          "execution_count": 69
        }
      ]
    },
    {
      "cell_type": "code",
      "metadata": {
        "id": "rRaoOVGRkWJh",
        "colab_type": "code",
        "outputId": "80ec7f8a-d1e0-466d-c4b6-b9a3866be47a",
        "colab": {
          "base_uri": "https://localhost:8080/",
          "height": 161
        }
      },
      "source": [
        "#make a emotion dict that relates the emotion number with the expression\n",
        "emotion_dict = {0: 'Angry', 1:'Disgust', 2: 'Fear', 3: 'Happy', 4: 'Sad', 5: 'Surprise', 6:'Neutral'}\n",
        "#see some descriptive statistics\n",
        "images_df['emotion'].value_counts().rename(emotion_dict)"
      ],
      "execution_count": 70,
      "outputs": [
        {
          "output_type": "execute_result",
          "data": {
            "text/plain": [
              "Happy       8989\n",
              "Neutral     6198\n",
              "Sad         6077\n",
              "Fear        5121\n",
              "Angry       4953\n",
              "Surprise    4002\n",
              "Disgust      547\n",
              "Name: emotion, dtype: int64"
            ]
          },
          "metadata": {
            "tags": []
          },
          "execution_count": 70
        }
      ]
    },
    {
      "cell_type": "code",
      "metadata": {
        "id": "GnQ9waBZzz4X",
        "colab_type": "code",
        "colab": {}
      },
      "source": [
        "#Setting up the training data\n",
        "train_df = images_df[images_df['Usage'] == 'Training'][['emotion', 'pixels']]\n",
        "train_df['pixels'] = train_df['pixels'].apply(lambda im: np.fromstring(im, sep=' '))\n",
        "# Nice work Susan! How did you come up with this method, its the elegence I've\n",
        "# been trying to get for hours!\n",
        "index_0s = [i for i, x in enumerate(train_df['pixels']) if np.sum(x) == 0]"
      ],
      "execution_count": 0,
      "outputs": []
    },
    {
      "cell_type": "code",
      "metadata": {
        "id": "usNdCk-D1R-6",
        "colab_type": "code",
        "colab": {}
      },
      "source": [
        "#df without 0s.\n",
        "train_df = train_df[~train_df.index.isin(index_0s)].reset_index(drop = True)"
      ],
      "execution_count": 0,
      "outputs": []
    },
    {
      "cell_type": "code",
      "metadata": {
        "id": "ho8VJygC5xv4",
        "colab_type": "code",
        "outputId": "fa2f77e5-ce96-4b24-8963-8ed74ec90cb3",
        "colab": {
          "base_uri": "https://localhost:8080/",
          "height": 53
        }
      },
      "source": [
        "x_train = np.vstack(train_df['pixels'].values)\n",
        "y_train = np.array(train_df['emotion'])\n",
        "print ('x_train shape is: ', x_train.shape)\n",
        "print ('y_train shape is: ', y_train.shape)"
      ],
      "execution_count": 73,
      "outputs": [
        {
          "output_type": "stream",
          "text": [
            "x_train shape is:  (28698, 2304)\n",
            "y_train shape is:  (28698,)\n"
          ],
          "name": "stdout"
        }
      ]
    },
    {
      "cell_type": "code",
      "metadata": {
        "id": "nd3bhh6E7Knx",
        "colab_type": "code",
        "outputId": "c3fca323-6613-4b65-e7b9-39ce4824a3ab",
        "colab": {
          "base_uri": "https://localhost:8080/",
          "height": 53
        }
      },
      "source": [
        "#Setting up the public test data\n",
        "public_test_df = images_df[images_df['Usage'] == 'PublicTest'][['emotion', 'pixels']]\n",
        "public_test_df[\"pixels\"] = public_test_df[\"pixels\"].apply(lambda im: np.fromstring(im, sep=' '))\n",
        "index2_0s = [i for i, x in enumerate(public_test_df['pixels']) if np.sum(x) == 0]\n",
        "public_test_df = public_test_df[~public_test_df.index.isin(index2_0s)].reset_index(drop = True)\n",
        "x_public_test = np.vstack(public_test_df['pixels'].values)\n",
        "y_public_test = np.array(public_test_df['emotion'])\n",
        "print('x_public_test shape is: ', x_public_test.shape)\n",
        "print('y_public_test shape is: ', y_public_test.shape)"
      ],
      "execution_count": 85,
      "outputs": [
        {
          "output_type": "stream",
          "text": [
            "x_public_test shape is:  (3589, 2304)\n",
            "y_public_test shape is:  (3589,)\n"
          ],
          "name": "stdout"
        }
      ]
    },
    {
      "cell_type": "code",
      "metadata": {
        "id": "iqN_nGTZ8SwF",
        "colab_type": "code",
        "outputId": "788bf930-b4e9-4468-e944-867bbc114a05",
        "colab": {
          "base_uri": "https://localhost:8080/",
          "height": 53
        }
      },
      "source": [
        "#resahpe images to a 48 x 48 pixel matrix\n",
        "x_train = x_train.reshape(-1, 48, 48)\n",
        "x_public_test = x_public_test.reshape(-1, 48, 48)\n",
        "print ('x_train new shape is: ', x_train.shape)\n",
        "print ('x_test new shape is: ', x_public_test.shape)"
      ],
      "execution_count": 75,
      "outputs": [
        {
          "output_type": "stream",
          "text": [
            "x_train new shape is:  (28698, 48, 48)\n",
            "x_test new shape is:  (3589, 48, 48)\n"
          ],
          "name": "stdout"
        }
      ]
    },
    {
      "cell_type": "code",
      "metadata": {
        "id": "IHy_f3OZtgZv",
        "colab_type": "code",
        "outputId": "d6836d26-8d0a-4441-9b5f-1b270b71d3fc",
        "colab": {
          "base_uri": "https://localhost:8080/",
          "height": 73
        }
      },
      "source": [
        "#Make y categorical\n",
        "y_train_cat= pd.get_dummies(y_train).as_matrix()"
      ],
      "execution_count": 76,
      "outputs": [
        {
          "output_type": "stream",
          "text": [
            "/usr/local/lib/python3.6/dist-packages/ipykernel_launcher.py:1: FutureWarning: Method .as_matrix will be removed in a future version. Use .values instead.\n",
            "  \"\"\"Entry point for launching an IPython kernel.\n"
          ],
          "name": "stderr"
        }
      ]
    },
    {
      "cell_type": "code",
      "metadata": {
        "id": "psRGMCEj9hjt",
        "colab_type": "code",
        "outputId": "d36b8140-7de6-44c0-fc01-287dea0fbe03",
        "colab": {
          "base_uri": "https://localhost:8080/",
          "height": 585
        }
      },
      "source": [
        "#show some images\n",
        "plt.figure(0, figsize = (12, 8))\n",
        "for i in range(16):\n",
        "  plt.subplot(4, 4, i+1)\n",
        "  plt.imshow(x_train[i, :, :], cmap='gray')\n",
        "  plt.title(emotion_dict[np.where(y_train_cat[i] == 1)[0][0]])\n",
        "plt.tight_layout()\n",
        "plt.show()"
      ],
      "execution_count": 77,
      "outputs": [
        {
          "output_type": "display_data",
          "data": {
            "image/png": "[encoded data removed]",
            "text/plain": [
              "<Figure size 864x576 with 16 Axes>"
            ]
          },
          "metadata": {
            "tags": []
          }
        }
      ]
    },
    {
      "cell_type": "markdown",
      "metadata": {
        "id": "gOSXMeMkwfZ3",
        "colab_type": "text"
      },
      "source": [
        "# Model Testing (SH)\n",
        "Might still need to z score x data but not sure"
      ]
    },
    {
      "cell_type": "code",
      "metadata": {
        "id": "rYZlwew36FlX",
        "colab_type": "code",
        "colab": {}
      },
      "source": [
        "#setting up the parameters\n",
        "num_features = 64\n"
      ],
      "execution_count": 0,
      "outputs": []
    },
    {
      "cell_type": "code",
      "metadata": {
        "id": "OOSecczA40UB",
        "colab_type": "code",
        "outputId": "355a387e-41a8-4f9a-957d-82ab515568e9",
        "colab": {
          "base_uri": "https://localhost:8080/",
          "height": 34
        }
      },
      "source": [
        "model_sh = Sequential()\n",
        "model_sh.add(Conv2D(num_features, kernel_size = (3, 3), activation = 'relu', \n",
        "                   input_shape = (48, 48, 1), data_format = \"channels_last\", \n",
        "                   kernel_regularizer = l2(0.01)))"
      ],
      "execution_count": 0,
      "outputs": [
        {
          "output_type": "execute_result",
          "data": {
            "text/plain": [
              "(28698, 48)"
            ]
          },
          "metadata": {
            "tags": []
          },
          "execution_count": 45
        }
      ]
    },
    {
      "cell_type": "code",
      "metadata": {
        "id": "wXNxSgaC5OeJ",
        "colab_type": "code",
        "colab": {}
      },
      "source": [
        ""
      ],
      "execution_count": 0,
      "outputs": []
    },
    {
      "cell_type": "markdown",
      "metadata": {
        "id": "IzXF0Jn-725v",
        "colab_type": "text"
      },
      "source": [
        "# **Model Testing**"
      ]
    },
    {
      "cell_type": "code",
      "metadata": {
        "id": "J1OwFZLPTaBf",
        "colab_type": "code",
        "outputId": "37a15f90-3fdd-41f9-df42-be9ab03b7657",
        "colab": {
          "base_uri": "https://localhost:8080/",
          "height": 161
        }
      },
      "source": [
        "\n",
        "# We must use the non-reshaped versions of the data, as this is what fit()\n",
        "# expects\n",
        "\n",
        "x_raw = train_df['pixels']\n",
        "y_raw = train_df['emotion']\n",
        "\n",
        "x_data = np.vstack(train_df['pixels'].values)\n",
        "y_data = np.array(y_raw)\n",
        "\n",
        "# The y_data needs to be catagorical\n",
        "from keras.utils.np_utils import to_categorical\n",
        "y_data = to_categorical(y_data, num_classes=7)\n",
        "#y_data = pd.get_dummies(y_data).as_matrix()\n",
        "\n",
        "print('The type of x_data is:' + str(type(x_data)))\n",
        "print('The shape of x_data is:' + str(len(x_data)))\n",
        "print('The type of x_data[1] is:' + str(type(x_data[1])))\n",
        "print('The shape of x_data[1] is:' + str(x_data[1].shape[0]))\n",
        "print('The type of y_data is:' + str(type(y_data)))\n",
        "print('The shape of y_data is:' + str(len(y_data)))\n",
        "print('The type of y_data[1] is:' + str(type(y_data[1])))\n",
        "print('Catagorical y_data looks like:' + str(y_data[1]))"
      ],
      "execution_count": 106,
      "outputs": [
        {
          "output_type": "stream",
          "text": [
            "The type of x_data is:<class 'numpy.ndarray'>\n",
            "The shape of x_data is:28698\n",
            "The type of x_data[1] is:<class 'numpy.ndarray'>\n",
            "The shape of x_data[1] is:2304\n",
            "The type of y_data is:<class 'numpy.ndarray'>\n",
            "The shape of y_data is:28698\n",
            "The type of y_data[1] is:<class 'numpy.ndarray'>\n",
            "Catagorical y_data looks like:[1. 0. 0. 0. 0. 0. 0.]\n"
          ],
          "name": "stdout"
        }
      ]
    },
    {
      "cell_type": "code",
      "metadata": {
        "id": "2jKVAHQe8EU9",
        "colab_type": "code",
        "colab": {}
      },
      "source": [
        "# Set up a basic, multi-layered [ 1 input, 1 output, n hidden layers ]\n",
        "# feedforward neural net. Train it on the data, see how it does, compare\n",
        "# with other similar models made in this section. The parameters to vary\n",
        "# are the number of neurons per layer, the number of hidden layers,\n",
        "# and the activation function, the loss functin, and\n",
        "# the optimizer, roughly.\n",
        "\n",
        "# Here we instantiate model 1\n",
        "\n",
        "from keras.models import Sequential\n",
        "from keras.layers import Dense\n",
        "\n",
        "model_1 = Sequential()\n",
        "\n",
        "neurons = 10\n",
        "\n",
        "# When the first output or hidden layer is created in the model, the\n",
        "# input layer is as well. We begin with the relu activaion function\n",
        "# as this is current industry best practices according to various\n",
        "# blogs. model_1 has one input layer with nuerons equal to the number of pixels.\n",
        "# There is one hidden layer of 10 neurons and 1 ouput layer.\n",
        "\n",
        "model_1.add(Dense(neurons*10, activation='relu', input_shape = (x_data[1].shape[0],)))\n",
        "model_1.add(Dense(neurons, activation='relu'))\n",
        "model_1.add(Dense(7))\n",
        "model_1.summary()"
      ],
      "execution_count": 0,
      "outputs": []
    },
    {
      "cell_type": "code",
      "metadata": {
        "id": "vgaEC9KY8ecF",
        "colab_type": "code",
        "colab": {}
      },
      "source": [
        "# To prepre model_1 for testing it needs to be compiled with an optimizer and\n",
        "# a loss function. For the optimizer we begin with sgd, a common choice on\n",
        "# blogs. For the loss function we begin with the mean-squared-error, another\n",
        "# common blog choice.\n",
        "\n",
        "model_1.compile(optimizer='adam', loss='mean_squared_error')"
      ],
      "execution_count": 0,
      "outputs": []
    },
    {
      "cell_type": "code",
      "metadata": {
        "id": "XgHW4r_QIAsw",
        "colab_type": "code",
        "colab": {}
      },
      "source": [
        "# This next step is a clever move from this blog...\n",
        "# https://towardsdatascience.com/building-a-deep-learning-model-using-keras-1548ca149d37\n",
        "# We engage an early stopping criteria for all keras trainig loops\n",
        "\n",
        "from keras.callbacks import EarlyStopping\n",
        "\n",
        "# Setting patience to 3 indicates that after 3 iterations (epochs) without model\n",
        "# imporvement the training loops will terminate early\n",
        "early_stop = EarlyStopping(patience=3)\n"
      ],
      "execution_count": 0,
      "outputs": []
    },
    {
      "cell_type": "code",
      "metadata": {
        "id": "KaqE3N5HIcHo",
        "colab_type": "code",
        "outputId": "ebba79d8-bd34-463c-c474-f1dfba3c57fe",
        "colab": {
          "base_uri": "https://localhost:8080/",
          "height": 701
        }
      },
      "source": [
        "# Here the magic happens, we train our very first model by calling fit()\n",
        "\n",
        "model_1.fit(x_data,y_data, validation_split=0.2, epochs=200, callbacks=[early_stop])"
      ],
      "execution_count": 110,
      "outputs": [
        {
          "output_type": "stream",
          "text": [
            "Train on 22958 samples, validate on 5740 samples\n",
            "Epoch 1/200\n",
            "22958/22958 [==============================] - 5s 221us/step - loss: 449.2019 - val_loss: 0.5081\n",
            "Epoch 2/200\n",
            "22958/22958 [==============================] - 4s 193us/step - loss: 0.3476 - val_loss: 0.3315\n",
            "Epoch 3/200\n",
            "22958/22958 [==============================] - 4s 188us/step - loss: 0.2356 - val_loss: 0.2768\n",
            "Epoch 4/200\n",
            "22958/22958 [==============================] - 4s 193us/step - loss: 0.1825 - val_loss: 0.2472\n",
            "Epoch 5/200\n",
            "22958/22958 [==============================] - 4s 194us/step - loss: 0.1554 - val_loss: 0.2356\n",
            "Epoch 6/200\n",
            "22958/22958 [==============================] - 4s 189us/step - loss: 0.1374 - val_loss: 0.2246\n",
            "Epoch 7/200\n",
            "22958/22958 [==============================] - 4s 190us/step - loss: 0.1281 - val_loss: 0.2159\n",
            "Epoch 8/200\n",
            "22958/22958 [==============================] - 4s 189us/step - loss: 0.1234 - val_loss: 0.2108\n",
            "Epoch 9/200\n",
            "22958/22958 [==============================] - 4s 186us/step - loss: 0.1214 - val_loss: 0.2025\n",
            "Epoch 10/200\n",
            "22958/22958 [==============================] - 4s 180us/step - loss: 0.1216 - val_loss: 0.2024\n",
            "Epoch 11/200\n",
            "22958/22958 [==============================] - 4s 181us/step - loss: 0.1298 - val_loss: 0.2097\n",
            "Epoch 12/200\n",
            "22958/22958 [==============================] - 4s 184us/step - loss: 0.1352 - val_loss: 0.2033\n",
            "Epoch 13/200\n",
            "22958/22958 [==============================] - 4s 185us/step - loss: 0.1257 - val_loss: 0.2023\n",
            "Epoch 14/200\n",
            "22958/22958 [==============================] - 4s 191us/step - loss: 0.1244 - val_loss: 0.2017\n",
            "Epoch 15/200\n",
            "22958/22958 [==============================] - 4s 188us/step - loss: 0.1452 - val_loss: 0.2012\n",
            "Epoch 16/200\n",
            "22958/22958 [==============================] - 4s 185us/step - loss: 0.1245 - val_loss: 0.2013\n",
            "Epoch 17/200\n",
            "22958/22958 [==============================] - 4s 191us/step - loss: 0.1181 - val_loss: 0.2013\n",
            "Epoch 18/200\n",
            "22958/22958 [==============================] - 4s 179us/step - loss: 0.1181 - val_loss: 0.2013\n"
          ],
          "name": "stdout"
        },
        {
          "output_type": "execute_result",
          "data": {
            "text/plain": [
              "<keras.callbacks.History at 0x7fdc8064f710>"
            ]
          },
          "metadata": {
            "tags": []
          },
          "execution_count": 110
        }
      ]
    },
    {
      "cell_type": "code",
      "metadata": {
        "id": "vweXX7Enme_B",
        "colab_type": "code",
        "colab": {}
      },
      "source": [
        "pred_1 = model_1.predict(x_public_test)"
      ],
      "execution_count": 0,
      "outputs": []
    },
    {
      "cell_type": "code",
      "metadata": {
        "id": "0aMhturrprna",
        "colab_type": "code",
        "outputId": "e8e78cab-fb2b-4abe-f581-ef8999612166",
        "colab": {
          "base_uri": "https://localhost:8080/",
          "height": 35
        }
      },
      "source": [
        "y_test = to_categorical(y_public_test, num_classes=7)\n",
        "print(y_test[1])"
      ],
      "execution_count": 111,
      "outputs": [
        {
          "output_type": "stream",
          "text": [
            "[0. 1. 0. 0. 0. 0. 0.]\n"
          ],
          "name": "stdout"
        }
      ]
    },
    {
      "cell_type": "code",
      "metadata": {
        "id": "g4yndgcZpw5k",
        "colab_type": "code",
        "colab": {
          "base_uri": "https://localhost:8080/",
          "height": 35
        },
        "outputId": "d3effd2b-ebca-4e9e-c8d4-0da9479d4124"
      },
      "source": [
        "mse_1 = np.sum((y_test - pred_1) * (y_test - pred_1))/y_test.shape[0]"
      ],
      "execution_count": 124,
      "outputs": [
        {
          "output_type": "execute_result",
          "data": {
            "text/plain": [
              "1.3019948105321817"
            ]
          },
          "metadata": {
            "tags": []
          },
          "execution_count": 124
        }
      ]
    },
    {
      "cell_type": "code",
      "metadata": {
        "id": "uEnCafiR-2Sw",
        "colab_type": "code",
        "colab": {
          "base_uri": "https://localhost:8080/",
          "height": 251
        },
        "outputId": "0ddc2ad2-1326-44e9-8890-ccafc2bd21c3"
      },
      "source": [
        "model_2 = Sequential()\n",
        "\n",
        "neurons = 10\n",
        "\n",
        "# When the first output or hidden layer is created in the model, the\n",
        "# input layer is as well. We begin with the relu activaion function\n",
        "# as this is current industry best practices according to various\n",
        "# blogs. model_1 has one input layer with nuerons equal to the number of pixels.\n",
        "# There is one hidden layer of 10 neurons and 1 ouput layer.\n",
        "\n",
        "model_2.add(Dense(1152, activation='relu', input_shape = (x_data[1].shape[0],)))\n",
        "model_2.add(Dense(48, activation='relu'))\n",
        "model_2.add(Dense(7))\n",
        "model_2.summary()"
      ],
      "execution_count": 126,
      "outputs": [
        {
          "output_type": "stream",
          "text": [
            "_________________________________________________________________\n",
            "Layer (type)                 Output Shape              Param #   \n",
            "=================================================================\n",
            "dense_31 (Dense)             (None, 1152)              2655360   \n",
            "_________________________________________________________________\n",
            "dense_32 (Dense)             (None, 48)                55344     \n",
            "_________________________________________________________________\n",
            "dense_33 (Dense)             (None, 7)                 343       \n",
            "=================================================================\n",
            "Total params: 2,711,047\n",
            "Trainable params: 2,711,047\n",
            "Non-trainable params: 0\n",
            "_________________________________________________________________\n"
          ],
          "name": "stdout"
        }
      ]
    },
    {
      "cell_type": "code",
      "metadata": {
        "id": "nOX8EELoLwAe",
        "colab_type": "code",
        "colab": {}
      },
      "source": [
        "model_2.compile(optimizer='adam', loss='mean_squared_error')"
      ],
      "execution_count": 0,
      "outputs": []
    },
    {
      "cell_type": "code",
      "metadata": {
        "id": "ef8MoZZeL8PQ",
        "colab_type": "code",
        "colab": {
          "base_uri": "https://localhost:8080/",
          "height": 701
        },
        "outputId": "4446c0df-2172-4fef-838e-960f81f1b518"
      },
      "source": [
        "model_2.fit(x_data,y_data, validation_split=0.2, epochs=200, callbacks=[early_stop])"
      ],
      "execution_count": 128,
      "outputs": [
        {
          "output_type": "stream",
          "text": [
            "Train on 22958 samples, validate on 5740 samples\n",
            "Epoch 1/200\n",
            "22958/22958 [==============================] - 34s 1ms/step - loss: 574.2322 - val_loss: 0.1410\n",
            "Epoch 2/200\n",
            "22958/22958 [==============================] - 33s 1ms/step - loss: 0.1398 - val_loss: 0.1384\n",
            "Epoch 3/200\n",
            "22958/22958 [==============================] - 33s 1ms/step - loss: 0.1367 - val_loss: 0.1349\n",
            "Epoch 4/200\n",
            "22958/22958 [==============================] - 33s 1ms/step - loss: 0.1330 - val_loss: 0.1310\n",
            "Epoch 5/200\n",
            "22958/22958 [==============================] - 33s 1ms/step - loss: 0.1291 - val_loss: 0.1272\n",
            "Epoch 6/200\n",
            "22958/22958 [==============================] - 33s 1ms/step - loss: 0.1255 - val_loss: 0.1239\n",
            "Epoch 7/200\n",
            "22958/22958 [==============================] - 33s 1ms/step - loss: 0.1225 - val_loss: 0.1213\n",
            "Epoch 8/200\n",
            "22958/22958 [==============================] - 33s 1ms/step - loss: 0.1203 - val_loss: 0.1195\n",
            "Epoch 9/200\n",
            "22958/22958 [==============================] - 33s 1ms/step - loss: 0.1190 - val_loss: 0.1186\n",
            "Epoch 10/200\n",
            "22958/22958 [==============================] - 33s 1ms/step - loss: 0.1184 - val_loss: 0.1182\n",
            "Epoch 11/200\n",
            "22958/22958 [==============================] - 33s 1ms/step - loss: 0.1181 - val_loss: 0.1181\n",
            "Epoch 12/200\n",
            "22958/22958 [==============================] - 33s 1ms/step - loss: 0.1181 - val_loss: 0.1181\n",
            "Epoch 13/200\n",
            "22958/22958 [==============================] - 33s 1ms/step - loss: 0.1181 - val_loss: 0.1181\n",
            "Epoch 14/200\n",
            "22958/22958 [==============================] - 33s 1ms/step - loss: 0.1181 - val_loss: 0.1181\n",
            "Epoch 15/200\n",
            "22958/22958 [==============================] - 33s 1ms/step - loss: 0.1181 - val_loss: 0.1181\n",
            "Epoch 16/200\n",
            "22958/22958 [==============================] - 35s 2ms/step - loss: 0.1181 - val_loss: 0.1181\n",
            "Epoch 17/200\n",
            "22958/22958 [==============================] - 33s 1ms/step - loss: 0.1181 - val_loss: 0.1181\n",
            "Epoch 18/200\n",
            "22958/22958 [==============================] - 33s 1ms/step - loss: 0.1181 - val_loss: 0.1181\n"
          ],
          "name": "stdout"
        },
        {
          "output_type": "execute_result",
          "data": {
            "text/plain": [
              "<keras.callbacks.History at 0x7fdc804b7710>"
            ]
          },
          "metadata": {
            "tags": []
          },
          "execution_count": 128
        }
      ]
    },
    {
      "cell_type": "code",
      "metadata": {
        "id": "0tPSI1qyL_k1",
        "colab_type": "code",
        "colab": {}
      },
      "source": [
        "pred_2 = model_2.predict(x_public_test)"
      ],
      "execution_count": 0,
      "outputs": []
    },
    {
      "cell_type": "code",
      "metadata": {
        "id": "R19BXmXUMODJ",
        "colab_type": "code",
        "colab": {}
      },
      "source": [
        "mse_2 = np.sum((y_test - pred_2) * (y_test - pred_2))/y_test.shape[0]"
      ],
      "execution_count": 0,
      "outputs": []
    },
    {
      "cell_type": "code",
      "metadata": {
        "id": "5OA6Uis4UGiM",
        "colab_type": "code",
        "colab": {
          "base_uri": "https://localhost:8080/",
          "height": 35
        },
        "outputId": "a54f68de-0238-44f3-9feb-24812aa6f41a"
      },
      "source": [
        "mse_2"
      ],
      "execution_count": 133,
      "outputs": [
        {
          "output_type": "execute_result",
          "data": {
            "text/plain": [
              "0.826840421687796"
            ]
          },
          "metadata": {
            "tags": []
          },
          "execution_count": 133
        }
      ]
    },
    {
      "cell_type": "code",
      "metadata": {
        "id": "d9fDO3PNUIhK",
        "colab_type": "code",
        "colab": {}
      },
      "source": [
        ""
      ],
      "execution_count": 0,
      "outputs": []
    },
    {
      "cell_type": "code",
      "metadata": {
        "colab_type": "code",
        "outputId": "f2fa76c6-a4b5-46e2-a66e-adb87f7a1050",
        "id": "pHg2Do43emwa",
        "colab": {
          "base_uri": "https://localhost:8080/",
          "height": 287
        }
      },
      "source": [
        "model_3 = Sequential()\n",
        "\n",
        "neurons = 10\n",
        "\n",
        "# When the first output or hidden layer is created in the model, the\n",
        "# input layer is as well. We begin with the relu activaion function\n",
        "# as this is current industry best practices according to various\n",
        "# blogs. model_1 has one input layer with nuerons equal to the number of pixels.\n",
        "# There is one hidden layer of 10 neurons and 1 ouput layer.\n",
        "\n",
        "model_3.add(Dense(1152, activation='relu', input_shape = (x_data[1].shape[0],)))\n",
        "model_3.add(Dense(576, activation='relu'))\n",
        "model_3.add(Dense(48, activation='relu'))\n",
        "model_3.add(Dense(7))\n",
        "model_3.summary()"
      ],
      "execution_count": 134,
      "outputs": [
        {
          "output_type": "stream",
          "text": [
            "_________________________________________________________________\n",
            "Layer (type)                 Output Shape              Param #   \n",
            "=================================================================\n",
            "dense_34 (Dense)             (None, 1152)              2655360   \n",
            "_________________________________________________________________\n",
            "dense_35 (Dense)             (None, 576)               664128    \n",
            "_________________________________________________________________\n",
            "dense_36 (Dense)             (None, 48)                27696     \n",
            "_________________________________________________________________\n",
            "dense_37 (Dense)             (None, 7)                 343       \n",
            "=================================================================\n",
            "Total params: 3,347,527\n",
            "Trainable params: 3,347,527\n",
            "Non-trainable params: 0\n",
            "_________________________________________________________________\n"
          ],
          "name": "stdout"
        }
      ]
    },
    {
      "cell_type": "code",
      "metadata": {
        "colab_type": "code",
        "id": "OjEJMiAjemwj",
        "colab": {}
      },
      "source": [
        "model_3.compile(optimizer='adam', loss='mean_squared_error')"
      ],
      "execution_count": 0,
      "outputs": []
    },
    {
      "cell_type": "code",
      "metadata": {
        "colab_type": "code",
        "outputId": "98ff8f41-dbfe-496d-ce35-19b33ace091e",
        "id": "eSl_c-_femwu",
        "colab": {
          "base_uri": "https://localhost:8080/",
          "height": 521
        }
      },
      "source": [
        "model_3.fit(x_data,y_data, validation_split=0.2, epochs=200, callbacks=[early_stop])"
      ],
      "execution_count": 136,
      "outputs": [
        {
          "output_type": "stream",
          "text": [
            "Train on 22958 samples, validate on 5740 samples\n",
            "Epoch 1/200\n",
            "22958/22958 [==============================] - 48s 2ms/step - loss: 347.7173 - val_loss: 0.1404\n",
            "Epoch 2/200\n",
            "22958/22958 [==============================] - 47s 2ms/step - loss: 0.1384 - val_loss: 0.1362\n",
            "Epoch 3/200\n",
            "22958/22958 [==============================] - 47s 2ms/step - loss: 0.1338 - val_loss: 0.1313\n",
            "Epoch 4/200\n",
            "22958/22958 [==============================] - 47s 2ms/step - loss: 0.1287 - val_loss: 0.1264\n",
            "Epoch 5/200\n",
            "22958/22958 [==============================] - 47s 2ms/step - loss: 0.1242 - val_loss: 0.1224\n",
            "Epoch 6/200\n",
            "22958/22958 [==============================] - 47s 2ms/step - loss: 0.1210 - val_loss: 0.1199\n",
            "Epoch 7/200\n",
            "22958/22958 [==============================] - 47s 2ms/step - loss: 0.1191 - val_loss: 0.1186\n",
            "Epoch 8/200\n",
            "22958/22958 [==============================] - 47s 2ms/step - loss: 0.1183 - val_loss: 0.1182\n",
            "Epoch 9/200\n",
            "22958/22958 [==============================] - 48s 2ms/step - loss: 0.1181 - val_loss: 0.1181\n",
            "Epoch 10/200\n",
            "22958/22958 [==============================] - 48s 2ms/step - loss: 0.1181 - val_loss: 0.1181\n",
            "Epoch 11/200\n",
            "22958/22958 [==============================] - 48s 2ms/step - loss: 0.1181 - val_loss: 0.1181\n",
            "Epoch 12/200\n",
            "22958/22958 [==============================] - 48s 2ms/step - loss: 0.1181 - val_loss: 0.1181\n",
            "Epoch 13/200\n",
            "22958/22958 [==============================] - 47s 2ms/step - loss: 0.1181 - val_loss: 0.1181\n"
          ],
          "name": "stdout"
        },
        {
          "output_type": "execute_result",
          "data": {
            "text/plain": [
              "<keras.callbacks.History at 0x7fdc801bed68>"
            ]
          },
          "metadata": {
            "tags": []
          },
          "execution_count": 136
        }
      ]
    },
    {
      "cell_type": "code",
      "metadata": {
        "colab_type": "code",
        "id": "71MXoFVGemw1",
        "colab": {}
      },
      "source": [
        "pred_2 = model_2.predict(x_public_test)"
      ],
      "execution_count": 0,
      "outputs": []
    },
    {
      "cell_type": "code",
      "metadata": {
        "colab_type": "code",
        "id": "BhQlo6c6emw8",
        "colab": {}
      },
      "source": [
        "mse_2 = np.sum((y_test - pred_2) * (y_test - pred_2))/y_test.shape[0]"
      ],
      "execution_count": 0,
      "outputs": []
    },
    {
      "cell_type": "code",
      "metadata": {
        "colab_type": "code",
        "outputId": "a54f68de-0238-44f3-9feb-24812aa6f41a",
        "id": "K8YV3Q3aemxD",
        "colab": {
          "base_uri": "https://localhost:8080/",
          "height": 35
        }
      },
      "source": [
        "mse_2"
      ],
      "execution_count": 0,
      "outputs": [
        {
          "output_type": "execute_result",
          "data": {
            "text/plain": [
              "0.826840421687796"
            ]
          },
          "metadata": {
            "tags": []
          },
          "execution_count": 133
        }
      ]
    }
  ]
}